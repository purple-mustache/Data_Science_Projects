{
  "nbformat": 4,
  "nbformat_minor": 0,
  "metadata": {
    "colab": {
      "provenance": [],
      "toc_visible": true
    },
    "kernelspec": {
      "name": "python3",
      "display_name": "Python 3"
    },
    "language_info": {
      "name": "python"
    }
  },
  "cells": [
    {
      "cell_type": "markdown",
      "source": [
        "# YouTube Video Summary with LLM\n",
        "\n",
        "In this project, I will work with large language models to summarize the transcript of a youtube video. For the video to be transcipted, I'm using and episode of a show called \"Princess Charming\" which is a dating show that is watched on a youtube channel that makes commentary."
      ],
      "metadata": {
        "id": "-odEYgPqB2_U"
      }
    },
    {
      "cell_type": "markdown",
      "source": [
        "## Install packages\n",
        "To begin, we will install the packages"
      ],
      "metadata": {
        "id": "0fBcRwQSCqRH"
      }
    },
    {
      "cell_type": "code",
      "execution_count": null,
      "metadata": {
        "colab": {
          "base_uri": "https://localhost:8080/"
        },
        "id": "GmJweFu-Bx9y",
        "outputId": "28629f8c-1e49-48d6-da46-9995c176af91"
      },
      "outputs": [
        {
          "output_type": "stream",
          "name": "stdout",
          "text": [
            "Requirement already satisfied: python-dotenv in /usr/local/lib/python3.11/dist-packages (1.1.0)\n",
            "Collecting youtube_transcript_api\n",
            "  Downloading youtube_transcript_api-1.0.3-py3-none-any.whl.metadata (23 kB)\n",
            "Requirement already satisfied: defusedxml<0.8.0,>=0.7.1 in /usr/local/lib/python3.11/dist-packages (from youtube_transcript_api) (0.7.1)\n",
            "Requirement already satisfied: requests in /usr/local/lib/python3.11/dist-packages (from youtube_transcript_api) (2.32.3)\n",
            "Requirement already satisfied: charset-normalizer<4,>=2 in /usr/local/lib/python3.11/dist-packages (from requests->youtube_transcript_api) (3.4.1)\n",
            "Requirement already satisfied: idna<4,>=2.5 in /usr/local/lib/python3.11/dist-packages (from requests->youtube_transcript_api) (3.10)\n",
            "Requirement already satisfied: urllib3<3,>=1.21.1 in /usr/local/lib/python3.11/dist-packages (from requests->youtube_transcript_api) (2.3.0)\n",
            "Requirement already satisfied: certifi>=2017.4.17 in /usr/local/lib/python3.11/dist-packages (from requests->youtube_transcript_api) (2025.1.31)\n",
            "Downloading youtube_transcript_api-1.0.3-py3-none-any.whl (2.2 MB)\n",
            "\u001b[2K   \u001b[90m━━━━━━━━━━━━━━━━━━━━━━━━━━━━━━━━━━━━━━━━\u001b[0m \u001b[32m2.2/2.2 MB\u001b[0m \u001b[31m52.7 MB/s\u001b[0m eta \u001b[36m0:00:00\u001b[0m\n",
            "\u001b[?25hInstalling collected packages: youtube_transcript_api\n",
            "Successfully installed youtube_transcript_api-1.0.3\n",
            "Collecting pytube\n",
            "  Downloading pytube-15.0.0-py3-none-any.whl.metadata (5.0 kB)\n",
            "Downloading pytube-15.0.0-py3-none-any.whl (57 kB)\n",
            "\u001b[2K   \u001b[90m━━━━━━━━━━━━━━━━━━━━━━━━━━━━━━━━━━━━━━━━\u001b[0m \u001b[32m57.6/57.6 kB\u001b[0m \u001b[31m3.8 MB/s\u001b[0m eta \u001b[36m0:00:00\u001b[0m\n",
            "\u001b[?25hInstalling collected packages: pytube\n",
            "Successfully installed pytube-15.0.0\n"
          ]
        }
      ],
      "source": [
        "!pip install python-dotenv\n",
        "!pip install --upgrade --quiet langchain\n",
        "!pip install --quiet langchain-community\n",
        "!pip install --upgrade --quiet langchain-together\n",
        "!pip install youtube_transcript_api\n",
        "!pip install pytube\n",
        "# !pip install openai\n"
      ]
    },
    {
      "cell_type": "markdown",
      "source": [
        "## Import packages\n",
        "Now , we import packages needed to accomplish the task"
      ],
      "metadata": {
        "id": "5jx39z1mCoHw"
      }
    },
    {
      "cell_type": "code",
      "source": [
        "import warnings\n",
        "warnings.filterwarnings('ignore')"
      ],
      "metadata": {
        "id": "xJ1L2ljICvGs"
      },
      "execution_count": null,
      "outputs": []
    },
    {
      "cell_type": "code",
      "source": [
        "import os\n",
        "from dotenv import load_dotenv\n",
        "from langchain_together import ChatTogether\n",
        "\n",
        "# youtube loader from langchain to get transcript\n",
        "from langchain_community.document_loaders import YoutubeLoader\n"
      ],
      "metadata": {
        "id": "37TZXbX3DgG8"
      },
      "execution_count": null,
      "outputs": []
    },
    {
      "cell_type": "code",
      "source": [
        "API_KEY = '***'\n",
        "load_dotenv(override=True)\n",
        "# llm = ChatTogether(api_key=os.getenv('TOGETHERAI_API_KEY'), temperature=0.0, model=\"meta-llama/Meta-Llama-3.1-8B-Instruct-Turbo\")\n",
        "llm = ChatTogether(api_key=API_KEY, temperature=0.0, model=\"meta-llama/Meta-Llama-3.1-8B-Instruct-Turbo\")"
      ],
      "metadata": {
        "id": "QUOjuc5YCyr5"
      },
      "execution_count": null,
      "outputs": []
    },
    {
      "cell_type": "code",
      "source": [
        "video_url = 'https://www.youtube.com/watch?v=ZcVgPkFy2RQ'\n",
        "loader = YoutubeLoader.from_youtube_url(video_url, add_video_info=False)\n",
        "data = loader.load()\n"
      ],
      "metadata": {
        "id": "wpxKaH1GFINi"
      },
      "execution_count": null,
      "outputs": []
    },
    {
      "cell_type": "code",
      "source": [
        "# show extracted page content\n",
        "data[0].page_content"
      ],
      "metadata": {
        "colab": {
          "base_uri": "https://localhost:8080/",
          "height": 243
        },
        "id": "b4r4KE-CFdfG",
        "outputId": "26fe78e2-23a2-4c69-87e6-e21f758299a3"
      },
      "execution_count": null,
      "outputs": [
        {
          "output_type": "execute_result",
          "data": {
            "text/plain": [
              "\"beer and pizza i [\\xa0__\\xa0] love tuesdays hi everyone welcome back i'm glad you're here again and i'm very happy to present to you the second episode of princess charming now i have to tell you in advance that um i've had a little bit of trouble recording this and i started drinking um like you know just a little beer when i first started recording um so this my it's not exactly my first try and i'm not exactly still at my first beer um so [Music] that's enough about me let's get back to the actual episode now before we do because it's been at least a week let's talk about what happened in the first episode everything was fine everyone got along great it was fun um kind of wholesome it was cute it was a cute first episode a great start until two people decided to have a little more the combat fight and um for which they got disqualified for um which is why princess arena did not have to send anyone home during the first episode now though um we are left with 18. contestants and um in this episode we're gonna get to dating and to the first single date and we will have to watch irina's send a few contestants home let's go britta zarina elsa johanna jaana kathy gia tabia firi anja lou zasya the episode starts with them talking about how cute irina is and irina talking about how she likes dating and all of that and not even two minutes in bieni comes with a message for the following women elza anya zarina to go on a little lunch date so then all of them get ready and we got a little shot of guitar showing us what a [\\xa0__\\xa0] absolute beast this woman is i mean look at her damn and yeah off they go so after a little bit of talking everyone gets their um piece of paper which says what they have to do put for example is um responsible for baking bread elsa's job is to prepare the filling for the peppers and then fill them no wait it's called stuffing whatever you know that stuff and um irina is basically just helping out where she can and after a little small talk about are they tidy person are they a messy person is the first one being like hey help me now and irina is knowing the dough i don't know if that's right but you know you can see it on the screen and no irina is knowing the dough and prita is holding the pot bowl and um we can see that prita really really likes irina it seems like she really has a crush on her she's a bit shy she's like she's cute she's really cute but to be honest i don't see i don't see the crush being reciprocated um on irina's side it seems very one-sided i don't think to me it does not look like irina is like developing a crush on preta so after protest done um elsa is the next one being like all right help me now and it's weird it's not weird it's whatever like she's irina is doing like stuffing the peppers and and elsa is like oh oh oh you're not doing that for the first time and um i don't get how that's charming or cute or whatever but hey irina seems to like it look at them [Music] there's definitely something going on between those two and when they're done cooking and they're sitting down to eat they are talking about well first tarina is like hey now so what's your sexuality again like are you lesbian are you are you bi are you pan and irina tells us that she was in a relationship with a dude when she was 17 years old she really loved him she was happy but ever since then she has only been in relationships with women and she also says that at this point where she is in her life right now she cannot see herself falling in love with a man again however elsa points out that it's kind of unnecessary to put labels on yourself and have whatever happens happens and you do you and everyone's valid and if you want to label yourself that's fine but there's no need to if you don't want to and [Music] then shifts the topic to whether or not they want to have kids so meanwhile at the house nakati and sasuke are talking and um actually you know what i'm going to let them speak for themselves first thing i want to say is that if you're bi-phobic transphobic racist or anything like that please [\\xa0__\\xa0] right off now in a confessional um jana says that she gives us a little bit of background as to why she had that thought process that just because you have short hair you might want to transition um she says that whenever she for example is wearing like um a snapback or whatever those heads are called you know um she feels like oh wow now you really look like a lesbian and i think every one of us can relate at least a little bit to all those stereotypic stereotypes about how lesbians dress and look and all of that [\\xa0__\\xa0] and so i get what she meant meanwhile some other contestants are talking about well different things i know all right so after some time the women who were on that lunch date come back and alia is telling everyone what went on what they did and um that lunch date leads some of the more feminine looking women especially nikki and erie to be kind of like okay maybe maybe the princess has a type most of the women she invited out are more on the tomboyish side is what they say and maybe i'm just not their type her type and they're a bit worried about that and while some of them worry about whether or not they might be irish type elsa and especially preda is [Music] but i feel really like i'm so scared that that is gonna get hurt because i just don't yet see any any chemistry coming from irina and like oh jesus [\\xa0__\\xa0] hmm the baby but the day ends and we can see how like look at them babies having a little pillow fight and all of them are cuddling but then the next day start some of them were working out um and um while some of them work out some of the others have sex talks yes [Laughter] so while all of that sex talk is going on jana realizes that two people are missing [Music] [Music] [Music] already we are treated with another message from the princes in which irina invites one girl for the first ever single date is so then jana arrives at the princess's place where the producers already put a little like a poster with um all the letters on it and some words sprinkled in between as a conversation starters and like that is a great idea that i will keep in mind and um yeah the date starts they talk and look at them just having a really good time is [Music] [Music] rather awkward conversations [Music] and i have to admit that i did not expect it but princess they actually laughed a lot like they had chemistry and i did not expect that [Music] and after jana tells them all about their date and some of the women worry about leaving tonight without it is time for the happy hour which is when irina comes to the villa and all of them can hang out and some can just grab her and have some alone time with her for the happy hour get our height [Music] positive fine [Music] [Music] and come the option [Music] and as soon as irina arrives tabby is like hey can we have some alone time can we talk about my question and their conversation goes okay there's nothing important to know they're just talking and at some point um leah is like can we have some a long time now and um their conversation however is well leah leah references drinking and partying a lot and um it does not seem like the princess is i think they just are on different levels i don't think that that's what the princess likes i don't think that's what she's about and so i don't there was not really any chemistry to be honest so then after everyone's hanging out together irina is like all right and now i'm going to talk to katie their conversation again there's nothing special to note just look at them going to wherever they want to talk and then at them walking backwards that pretty much shows you everything you have to know about their conversation and then after the time with katie she finally spent some alone time with vicky and i don't think we've seen them one-on-one before and look at britta being cute [Music] oh god but again i have to admit that i don't feel any chemistry between them i don't think but this time it's like both sided i don't think that there is any tension or chemistry between them that would be more than just friendship however next in line is lou and irina sums their conversation up the best and during all of this while johanna seemed very confident in the first episode she is kind of struggling this time hey man this is [Music] [Music] [Music] foreign now it is time for irina to kick someone out thank you for the invention there thank you [Music] elsa [Music] foreign [Music] foreign miss you too baby [Music] [Laughter] outside [Music] johanna [Music] miriam [Music] [Music] [Music] [Music] i love you love you too all babies [Music] my god [Music] and with that ends the second episode of princess charming i also hope to see you soon and if it's evening sleep well if it's during the daytime have a great day see you next week bye\""
            ],
            "application/vnd.google.colaboratory.intrinsic+json": {
              "type": "string"
            }
          },
          "metadata": {},
          "execution_count": 9
        }
      ]
    },
    {
      "cell_type": "markdown",
      "source": [
        "## Summarize text\n",
        "Here, we use the LLM to summarize and extract key points from the transcript"
      ],
      "metadata": {
        "id": "MaUvgEqJGTL3"
      }
    },
    {
      "cell_type": "code",
      "source": [
        "# defining system and human messages for the llm to take action\n",
        "messages = [\n",
        "    (\n",
        "        'system',\n",
        "        \"\"\"Read through the entire transcript carefully.\n",
        "           Provide a concise summary of the video's main topic points from the transcript.\n",
        "           Extract and list the five most interesting or important points from the transcript.\n",
        "           For each point: State the key idea in a clear and concise manner.\n",
        "\n",
        "        - Ensure your summary and key points capture the essence of the video without including unnecessary details.\n",
        "        - Use clear, engaging language that is accessible to a general audience.\n",
        "        - If the transcript includes any statistical data, expert opinions , or unique insights, prioritize including these in your summary or key points.\"\"\",\n",
        "\n",
        "    ),\n",
        "    ('human',data[0].page_content),\n",
        "]\n",
        "\n",
        "ai_msg = llm.invoke(messages)\n",
        "ai_msg"
      ],
      "metadata": {
        "colab": {
          "base_uri": "https://localhost:8080/"
        },
        "id": "K-XRS3w9GLBI",
        "outputId": "b40d0a34-c31c-47b3-ea7e-df11dcd27208"
      },
      "execution_count": null,
      "outputs": [
        {
          "output_type": "execute_result",
          "data": {
            "text/plain": [
              "AIMessage(content='**Summary:**\\n\\nThe second episode of \"Princess Charming\" focuses on the contestants\\' interactions and relationships with each other, particularly with the show\\'s host, Irina. The episode starts with a lunch date between Irina and several contestants, where they discuss their preferences and interests. The conversation leads to some of the contestants feeling worried about being Irina\\'s type, as she seems to be attracted to more tomboyish women. The episode also features a single date between Irina and Jana, which surprisingly shows chemistry between them. However, not all interactions between Irina and the contestants result in chemistry, and some are even awkward. The episode ends with Irina having to choose someone to leave the show, which she does, and the remaining contestants are left to wonder who will be next.\\n\\n**Five Most Interesting or Important Points:**\\n\\n1. **Irina\\'s Type:** The episode suggests that Irina may have a type, as she seems to be attracted to more tomboyish women. This raises questions about whether she is open to dating women of different styles and preferences.\\n\\nKey Idea: Irina may have a preference for women with a more masculine or tomboyish appearance.\\n\\n2. **Chemistry between Irina and Jana:** The single date between Irina and Jana shows surprising chemistry between them, which was not expected by the host or the audience.\\n\\nKey Idea: Irina and Jana may have a connection that goes beyond a simple friendship.\\n\\n3. **Lack of Chemistry between Irina and Some Contestants:** Not all interactions between Irina and the contestants result in chemistry, and some are even awkward. This raises questions about whether Irina is genuinely interested in getting to know the contestants or if she is just going through the motions.\\n\\nKey Idea: Irina may not be genuinely interested in all of the contestants, and some interactions may be forced or awkward.\\n\\n4. **Johanna\\'s Struggles:** Johanna, who seemed confident in the first episode, is struggling in this episode. This raises questions about whether she is genuinely interested in the show or if she is just trying to fit in.\\n\\nKey Idea: Johanna may be struggling with her own doubts and insecurities, which could impact her performance on the show.\\n\\n5. **Irina\\'s Decision to Leave Someone:** The episode ends with Irina having to choose someone to leave the show, which she does. This raises questions about whether the decision was fair and whether the contestants who were left behind will be able to move on.\\n\\nKey Idea: Irina\\'s decision to leave someone may have a significant impact on the remaining contestants and the dynamics of the show.', additional_kwargs={'refusal': None}, response_metadata={'token_usage': {'completion_tokens': 535, 'prompt_tokens': 2120, 'total_tokens': 2655, 'completion_tokens_details': None, 'prompt_tokens_details': None}, 'model_name': 'meta-llama/Meta-Llama-3.1-8B-Instruct-Turbo', 'system_fingerprint': None, 'id': 'non1EHx-66dFFu-92b303906bf3d653', 'finish_reason': 'stop', 'logprobs': None}, id='run-2e257bc3-1239-4cdc-8798-f27361b1b7ce-0', usage_metadata={'input_tokens': 2120, 'output_tokens': 535, 'total_tokens': 2655, 'input_token_details': {}, 'output_token_details': {}})"
            ]
          },
          "metadata": {},
          "execution_count": 11
        }
      ]
    },
    {
      "cell_type": "markdown",
      "source": [
        "## Prompt template in Langchain\n",
        "Now, we do the propmt using LangChain instead"
      ],
      "metadata": {
        "id": "EJpGQ7xUI1SD"
      }
    },
    {
      "cell_type": "code",
      "source": [
        "# set up a promt template for summarizing a video transcript using Langchain\n",
        "from langchain.prompts import PromptTemplate\n",
        "from langchain.chains import LLMChain\n",
        "\n",
        "# define a prompt tempate for summarizing video transcripts\n",
        "# the template includes instructions for the AI model on how ro process the transcript\n",
        "summariser_template = PromptTemplate(\n",
        "    input_variables=[\"video_transcript\"],\n",
        "    template=\"\"\"Read through the entire transcript carefully.\n",
        "           Provide a concise summary of the video's mian topic and purpose.\n",
        "           Extract and list the five most interesting or important points from the transcript.\n",
        "           For each point: State the key idea in a clear and concise manner.\n",
        "\n",
        "        - Ensure your summary and key points capture the essence of the video without including unnecessary details.\n",
        "        - Use clear, engaging language that is accessible to a general audience.\n",
        "        - If the transcript includes any statistical data, expert opinions , or unique insights, prioritize including these in your summary or key points.\n",
        "\n",
        "        Video transcript: {video_transcript}\"\"\",\n",
        ")\n",
        "\n"
      ],
      "metadata": {
        "id": "Bjpr3E4KIH3S"
      },
      "execution_count": null,
      "outputs": []
    },
    {
      "cell_type": "markdown",
      "source": [
        "## Using LLMChain for Summarization\n",
        "\n",
        "Now, we want to accomplish the following tasks:\n",
        "*   Create an LLMChain with the custom propt template\n",
        "*   Generate a summary of the video transcript using the chain\n",
        "\n"
      ],
      "metadata": {
        "id": "qJ4gKpnzKSgu"
      }
    },
    {
      "cell_type": "code",
      "source": [
        "# invoke the chain with the vodeo transcript\n",
        "chain = LLMChain(llm=llm, prompt=summariser_template)\n",
        "\n",
        "# run the chain with the provided product details\n",
        "summary = chain.invoke({\n",
        "    \"video_transcript\": data[0].page_content})"
      ],
      "metadata": {
        "colab": {
          "base_uri": "https://localhost:8080/"
        },
        "id": "XaxwO3AfKRiQ",
        "outputId": "de962f58-066f-4828-bea3-4062c32331dc"
      },
      "execution_count": null,
      "outputs": [
        {
          "output_type": "stream",
          "name": "stderr",
          "text": [
            "<ipython-input-14-7b7011761d30>:2: LangChainDeprecationWarning: The class `LLMChain` was deprecated in LangChain 0.1.17 and will be removed in 1.0. Use :meth:`~RunnableSequence, e.g., `prompt | llm`` instead.\n",
            "  chain = LLMChain(llm=llm, prompt=summariser_template)\n"
          ]
        }
      ]
    },
    {
      "cell_type": "code",
      "source": [
        "summary['text']"
      ],
      "metadata": {
        "colab": {
          "base_uri": "https://localhost:8080/",
          "height": 243
        },
        "id": "TuvNvoxxLXwT",
        "outputId": "c1083cc0-5c2b-43d3-81d8-a22d161e58c2"
      },
      "execution_count": null,
      "outputs": [
        {
          "output_type": "execute_result",
          "data": {
            "text/plain": [
              "'**Summary:**\\nThe video is the second episode of a reality TV show called \"Princess Charming,\" where a group of women live together and compete for the affection of a princess, Irina. The episode focuses on the first single date between Irina and Jana, and the interactions between Irina and the other contestants, including a lunch date with Elsa, Prita, and others. The episode explores themes of identity, relationships, and chemistry between the contestants.\\n\\n**Five Most Interesting or Important Points:**\\n\\n1. **Irina\\'s Type:** The episode suggests that Irina may have a type, as she invites mostly tomboyish-looking women on dates, leaving some of the more feminine-looking women worried about their chances.\\n2. **Elsa and Prita\\'s Chemistry:** There appears to be a strong connection between Elsa and Prita, with Elsa being very affectionate and Prita having a crush on her. However, Irina doesn\\'t seem to reciprocate the feelings.\\n3. **Jana\\'s Date with Irina:** The first single date between Irina and Jana is a surprise, and they seem to have a good time, laughing and having chemistry. However, it\\'s unclear if this is a genuine connection or just a fun experience.\\n4. **Leah\\'s Conversation with Irina:** Leah\\'s conversation with Irina doesn\\'t seem to have any chemistry, and it\\'s suggested that they\\'re on different levels. Leah references drinking and partying, which may not be Irina\\'s style.\\n5. **Johanna\\'s Struggles:** Johanna, who seemed confident in the first episode, is struggling this time around, and it\\'s unclear if she\\'ll be able to connect with Irina or make it through the competition.\\n\\n**Key Ideas:**\\n\\n1. Irina may have a type, and it\\'s unclear if she\\'s open to relationships with women who don\\'t fit that mold.\\n2. Elsa and Prita have a strong connection, but it\\'s unclear if Irina feels the same way.\\n3. Jana and Irina have chemistry, but it\\'s unclear if this is a genuine connection or just a fun experience.\\n4. Leah and Irina don\\'t seem to have any chemistry, and it\\'s suggested that they\\'re on different levels.\\n5. Johanna is struggling to connect with Irina and may be in danger of being eliminated.'"
            ],
            "application/vnd.google.colaboratory.intrinsic+json": {
              "type": "string"
            }
          },
          "metadata": {},
          "execution_count": 15
        }
      ]
    },
    {
      "cell_type": "code",
      "source": [
        "from IPython.display import display, Markdown\n",
        "display(Markdown(summary['text']))"
      ],
      "metadata": {
        "colab": {
          "base_uri": "https://localhost:8080/",
          "height": 606
        },
        "id": "hgijwZxtLbZW",
        "outputId": "5dfbf50a-e782-4069-e53e-f98af6f69fc3"
      },
      "execution_count": null,
      "outputs": [
        {
          "output_type": "display_data",
          "data": {
            "text/plain": [
              "<IPython.core.display.Markdown object>"
            ],
            "text/markdown": "**Summary:**\nThe video is the second episode of a reality TV show called \"Princess Charming,\" where a group of women live together and compete for the affection of a princess, Irina. The episode focuses on the first single date between Irina and Jana, and the interactions between Irina and the other contestants, including a lunch date with Elsa, Prita, and others. The episode explores themes of identity, relationships, and chemistry between the contestants.\n\n**Five Most Interesting or Important Points:**\n\n1. **Irina's Type:** The episode suggests that Irina may have a type, as she invites mostly tomboyish-looking women on dates, leaving some of the more feminine-looking women worried about their chances.\n2. **Elsa and Prita's Chemistry:** There appears to be a strong connection between Elsa and Prita, with Elsa being very affectionate and Prita having a crush on her. However, Irina doesn't seem to reciprocate the feelings.\n3. **Jana's Date with Irina:** The first single date between Irina and Jana is a surprise, and they seem to have a good time, laughing and having chemistry. However, it's unclear if this is a genuine connection or just a fun experience.\n4. **Leah's Conversation with Irina:** Leah's conversation with Irina doesn't seem to have any chemistry, and it's suggested that they're on different levels. Leah references drinking and partying, which may not be Irina's style.\n5. **Johanna's Struggles:** Johanna, who seemed confident in the first episode, is struggling this time around, and it's unclear if she'll be able to connect with Irina or make it through the competition.\n\n**Key Ideas:**\n\n1. Irina may have a type, and it's unclear if she's open to relationships with women who don't fit that mold.\n2. Elsa and Prita have a strong connection, but it's unclear if Irina feels the same way.\n3. Jana and Irina have chemistry, but it's unclear if this is a genuine connection or just a fun experience.\n4. Leah and Irina don't seem to have any chemistry, and it's suggested that they're on different levels.\n5. Johanna is struggling to connect with Irina and may be in danger of being eliminated."
          },
          "metadata": {}
        }
      ]
    }
  ]
}